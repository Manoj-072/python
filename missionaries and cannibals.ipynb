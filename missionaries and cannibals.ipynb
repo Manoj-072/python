{
 "cells": [
  {
   "cell_type": "code",
   "execution_count": 3,
   "id": "37c2ac18",
   "metadata": {},
   "outputs": [],
   "source": [
    "from collections import deque\n",
    "def is_valid_state(state):\n",
    "    m_left, c_left, m_right, c_right, boat = state\n",
    "    if (m_left < 0 or c_left < 0 or m_right < 0 or c_right < 0 or\n",
    "        (m_left != 0 and m_left < c_left) or\n",
    "        (m_right != 0 and m_right < c_right)):\n",
    "        return False\n",
    "    return True\n"
   ]
  },
  {
   "cell_type": "code",
   "execution_count": 4,
   "id": "9f920387",
   "metadata": {},
   "outputs": [],
   "source": [
    "def generate_next_states(state):\n",
    "    m_left, c_left, m_right, c_right, boat = state\n",
    "    possible_states = []\n",
    "    if boat == 'left':\n",
    "        for m in range(3):\n",
    "            for c in range(3):\n",
    "                if m + c > 2 or m + c == 0:\n",
    "                    continue\n",
    "                new_state = (m_left - m, c_left - c, m_right + m, c_right + c, 'right')\n",
    "                if is_valid_state(new_state):\n",
    "                    possible_states.append(new_state)\n",
    "    else:\n",
    "        for m in range(3):\n",
    "            for c in range(3):\n",
    "                if m + c > 2 or m + c == 0:\n",
    "                    continue\n",
    "                new_state = (m_left + m, c_left + c, m_right - m, c_right - c, 'left')\n",
    "                if is_valid_state(new_state):\n",
    "                    possible_states.append(new_state)\n",
    "    return possible_states\n"
   ]
  },
  {
   "cell_type": "code",
   "execution_count": 5,
   "id": "92b68937",
   "metadata": {},
   "outputs": [],
   "source": [
    "def bfs(start_state, goal_state):\n",
    "    visited = set()\n",
    "    queue = deque([(start_state, [])])\n",
    "    while queue:\n",
    "        current_state, path = queue.popleft()\n",
    "        visited.add(current_state)\n",
    "        if current_state == goal_state:\n",
    "            return path\n",
    "        for next_state in generate_next_states(current_state):\n",
    "            if next_state not in visited:\n",
    "                queue.append((next_state, path + [next_state]))\n",
    "                visited.add(next_state)\n",
    "    return []\n"
   ]
  },
  {
   "cell_type": "code",
   "execution_count": 6,
   "id": "a2883759",
   "metadata": {},
   "outputs": [
    {
     "name": "stdout",
     "output_type": "stream",
     "text": [
      "bfs solution:\n",
      "Step 1: (3, 1, 0, 2, 'right')\n",
      "Step 2: (3, 2, 0, 1, 'left')\n",
      "Step 3: (3, 0, 0, 3, 'right')\n",
      "Step 4: (3, 1, 0, 2, 'left')\n",
      "Step 5: (1, 1, 2, 2, 'right')\n",
      "Step 6: (2, 2, 1, 1, 'left')\n",
      "Step 7: (0, 2, 3, 1, 'right')\n",
      "Step 8: (0, 3, 3, 0, 'left')\n",
      "Step 9: (0, 1, 3, 2, 'right')\n",
      "Step 10: (0, 2, 3, 1, 'left')\n",
      "Step 11: (0, 0, 3, 3, 'right')\n"
     ]
    }
   ],
   "source": [
    "start_state = (3, 3, 0, 0, 'left')\n",
    "goal_state = (0, 0, 3, 3, 'right')\n",
    "visited = set()\n",
    "start_state = (3, 3, 0, 0, 'left')\n",
    "goal_state = (0, 0, 3, 3, 'right')\n",
    "print(\"bfs solution:\")\n",
    "solution = bfs(start_state, goal_state)\n",
    "if solution:\n",
    "    for i, state in enumerate(solution):\n",
    "        print(f\"Step {i+1}: {state}\")\n",
    "else:\n",
    "    print(\"No solution found.\")"
   ]
  },
  {
   "cell_type": "code",
   "execution_count": null,
   "id": "a760cc6f",
   "metadata": {},
   "outputs": [],
   "source": []
  }
 ],
 "metadata": {
  "kernelspec": {
   "display_name": "Python 3 (ipykernel)",
   "language": "python",
   "name": "python3"
  },
  "language_info": {
   "codemirror_mode": {
    "name": "ipython",
    "version": 3
   },
   "file_extension": ".py",
   "mimetype": "text/x-python",
   "name": "python",
   "nbconvert_exporter": "python",
   "pygments_lexer": "ipython3",
   "version": "3.11.3"
  }
 },
 "nbformat": 4,
 "nbformat_minor": 5
}
