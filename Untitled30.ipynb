{
 "cells": [
  {
   "cell_type": "code",
   "execution_count": 1,
   "id": "938982ee",
   "metadata": {},
   "outputs": [],
   "source": [
    "j1=3\n",
    "j2=5"
   ]
  },
  {
   "cell_type": "code",
   "execution_count": null,
   "id": "0ad9a970",
   "metadata": {},
   "outputs": [],
   "source": [
    "goal=4\n",
    "intial=(0,0)\n"
   ]
  },
  {
   "cell_type": "code",
   "execution_count": 50,
   "id": "dad6dbef",
   "metadata": {},
   "outputs": [],
   "source": [
    "def possible_states(t):\n",
    "    d={}\n",
    "    t1=()\n",
    "    t2=()\n",
    "    t3=()\n",
    "    t4=()\n",
    "    t5=()\n",
    "    t6=()\n",
    "    t7=()\n",
    "    t8=()\n",
    "    t9=()\n",
    "    t10=()\n",
    "    #while(1):\n",
    "#fill 5\n",
    "    if t[0]<5:\n",
    "        t1=(5,t[1])\n",
    "        if(t[1]<3):\n",
    "            t4=(5,3)\n",
    "        \n",
    "    if t[0]+t[1]<=5 and t[1]>0:\n",
    "        t6=(t[0]+t[1],0)\n",
    "    if t[0]+t[1]>=5 and t[1]>0:\n",
    "        t1=(5,t[1]-(5-t[0]))\n",
    "    #fill 3\n",
    "    if(t[1]<3):\n",
    "        t2=(t[0],3)\n",
    "    if t[0]+t[1]<=3 and t[0]>0:\n",
    "        t10=(0,t[0]+t[1])\n",
    "    if t[0]+t[1]>=3 and t[0]>0:\n",
    "        t10=(t[0]-(3-t[1]),3)\n",
    "    #empty 5\n",
    "    if t[0]>0:\n",
    "        t3=(0,t[1])\n",
    "        if t[1]>0:\n",
    "            t8=(0,0)\n",
    "    #empty 3\n",
    "    if t[1]>0:\n",
    "        t7=(t[0],0)\n",
    "        if t[0]>0:\n",
    "             t9=(0,0)\n",
    "            \n",
    "    l=[t1,t2,t3,t4,t5,t6,t7,t8,t9,t10]\n",
    "    l2=[]\n",
    "    #c=1\n",
    "    for i in l:\n",
    "        if len(i)!=0 and i!=t and (i not in l2 ):\n",
    "            l2.append(i)\n",
    "           # l2.append(c)\n",
    "        #c=c+1\n",
    "    return l2\n",
    "        \n",
    "    "
   ]
  },
  {
   "cell_type": "code",
   "execution_count": 57,
   "id": "22a57dc8",
   "metadata": {},
   "outputs": [
    {
     "name": "stdout",
     "output_type": "stream",
     "text": [
      "[(5, 2), (0, 3), (4, 0), (0, 0)]\n"
     ]
    }
   ],
   "source": [
    "l=possible_states((4,3))\n",
    "print(l)"
   ]
  },
  {
   "cell_type": "code",
   "execution_count": 69,
   "id": "5eb1290e",
   "metadata": {},
   "outputs": [],
   "source": [
    "def jug(t,goal):\n",
    "    flag=0\n",
    "    t=(0,0)\n",
    "    visited=[]\n",
    "    open1=[]\n",
    "    closed=[t]\n",
    "    print(closed)\n",
    "    while closed:\n",
    "        x=closed.pop(0)\n",
    "        l=possible_states(x)\n",
    "        for j in l:\n",
    "            if j not in open1:\n",
    "                open1.append(j)\n",
    "        print(open1)\n",
    "        print(\"*************\")\n",
    "        for k in open1:\n",
    "            if k==goal:\n",
    "                flag=1\n",
    "                break\n",
    "            \n",
    "            if k not in visited:\n",
    "                visited.append(k)\n",
    "                closed.append(k)\n",
    "        if flag==1:\n",
    "                print(\"goal reached\")\n",
    "                break\n",
    "        \n",
    "        \n",
    "        \n",
    "        \n",
    "            \n",
    "\n",
    "        \n",
    "        \n",
    "        \n",
    "        \n",
    "        \n",
    "        \n",
    "        \n",
    "        \n",
    "        \n",
    "        \n",
    "        \n",
    "        \n",
    "        \n",
    "        \n",
    "        \n",
    "        \n",
    "        \n",
    "        \n",
    "        \n",
    "        \n",
    "        \n",
    "    "
   ]
  },
  {
   "cell_type": "code",
   "execution_count": 70,
   "id": "09adb1b9",
   "metadata": {},
   "outputs": [
    {
     "name": "stdout",
     "output_type": "stream",
     "text": [
      "[(0, 0)]\n",
      "[(5, 0), (0, 3), (5, 3)]\n",
      "*************\n",
      "[(5, 0), (0, 3), (5, 3), (0, 0), (2, 3)]\n",
      "*************\n",
      "[(5, 0), (0, 3), (5, 3), (0, 0), (2, 3), (3, 0)]\n",
      "*************\n",
      "[(5, 0), (0, 3), (5, 3), (0, 0), (2, 3), (3, 0)]\n",
      "*************\n",
      "[(5, 0), (0, 3), (5, 3), (0, 0), (2, 3), (3, 0)]\n",
      "*************\n",
      "[(5, 0), (0, 3), (5, 3), (0, 0), (2, 3), (3, 0), (2, 0)]\n",
      "*************\n",
      "[(5, 0), (0, 3), (5, 3), (0, 0), (2, 3), (3, 0), (2, 0), (3, 3)]\n",
      "*************\n",
      "[(5, 0), (0, 3), (5, 3), (0, 0), (2, 3), (3, 0), (2, 0), (3, 3), (0, 2)]\n",
      "*************\n",
      "[(5, 0), (0, 3), (5, 3), (0, 0), (2, 3), (3, 0), (2, 0), (3, 3), (0, 2), (5, 1)]\n",
      "*************\n",
      "[(5, 0), (0, 3), (5, 3), (0, 0), (2, 3), (3, 0), (2, 0), (3, 3), (0, 2), (5, 1), (5, 2)]\n",
      "*************\n",
      "[(5, 0), (0, 3), (5, 3), (0, 0), (2, 3), (3, 0), (2, 0), (3, 3), (0, 2), (5, 1), (5, 2), (0, 1)]\n",
      "*************\n",
      "[(5, 0), (0, 3), (5, 3), (0, 0), (2, 3), (3, 0), (2, 0), (3, 3), (0, 2), (5, 1), (5, 2), (0, 1), (4, 3)]\n",
      "*************\n",
      "[(5, 0), (0, 3), (5, 3), (0, 0), (2, 3), (3, 0), (2, 0), (3, 3), (0, 2), (5, 1), (5, 2), (0, 1), (4, 3), (1, 0)]\n",
      "*************\n",
      "[(5, 0), (0, 3), (5, 3), (0, 0), (2, 3), (3, 0), (2, 0), (3, 3), (0, 2), (5, 1), (5, 2), (0, 1), (4, 3), (1, 0), (4, 0)]\n",
      "*************\n",
      "goal reached\n"
     ]
    }
   ],
   "source": [
    "jug((0,0),(4,0))"
   ]
  },
  {
   "cell_type": "code",
   "execution_count": null,
   "id": "90c247ff",
   "metadata": {},
   "outputs": [],
   "source": []
  }
 ],
 "metadata": {
  "kernelspec": {
   "display_name": "Python 3 (ipykernel)",
   "language": "python",
   "name": "python3"
  },
  "language_info": {
   "codemirror_mode": {
    "name": "ipython",
    "version": 3
   },
   "file_extension": ".py",
   "mimetype": "text/x-python",
   "name": "python",
   "nbconvert_exporter": "python",
   "pygments_lexer": "ipython3",
   "version": "3.9.7"
  }
 },
 "nbformat": 4,
 "nbformat_minor": 5
}
