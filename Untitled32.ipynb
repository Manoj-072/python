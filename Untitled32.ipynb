{
 "cells": [
  {
   "cell_type": "code",
   "execution_count": 52,
   "id": "8cd0ebcb",
   "metadata": {},
   "outputs": [
    {
     "name": "stdout",
     "output_type": "stream",
     "text": [
      "     outlook  temp humidity    wind play\n",
      "0      Sunny   Hot     High    Weak   No\n",
      "1      Sunny   Hot     High  Strong   No\n",
      "2   Overcast   Hot     High    Weak  Yes\n",
      "3       Rain  Mild     High    Weak  Yes\n",
      "4       Rain  Cool   Normal    Weak  Yes\n",
      "5       Rain  Cool   Normal  Strong   No\n",
      "6   Overcast  Cool   Normal  Strong  Yes\n",
      "7      Sunny  Mild     High    Weak   No\n",
      "8      Sunny  Cool   Normal    Weak  Yes\n",
      "9       Rain  Mild   Normal    Weak  Yes\n",
      "10     Sunny  Mild   Normal  Strong  Yes\n",
      "11  Overcast  Mild     High  Strong  Yes\n",
      "12  Overcast   Hot   Normal    Weak  Yes\n",
      "13      Rain  Mild     High  Strong   No\n"
     ]
    }
   ],
   "source": [
    "import pandas as pd\n",
    "import numpy as np\n",
    "df=pd.read_csv(\"play_tennis.csv\")\n",
    "del df['day']\n",
    "print(df)"
   ]
  },
  {
   "cell_type": "code",
   "execution_count": 73,
   "id": "9b973754",
   "metadata": {},
   "outputs": [],
   "source": [
    "def cal(m,n):\n",
    "    if m==0 or n==0:\n",
    "        return 0\n",
    "    a=(-m/(m+n))*np.log2((m/(m+n)))\n",
    "    b=(-n/(m+n))*np.log2((n/(m+n)))\n",
    "    entr=a+b\n",
    "    return entr\n",
    "    \n",
    "    "
   ]
  },
  {
   "cell_type": "code",
   "execution_count": 82,
   "id": "8b0fce30",
   "metadata": {},
   "outputs": [],
   "source": [
    "def entropy(df,attr):\n",
    "    d1=df.loc[(df[attr]=='Yes')]\n",
    "    d2=df.loc[(df[attr]=='No')]\n",
    "    m=len(d1)\n",
    "    n=len(d2)\n",
    "   # print(m,n)\n",
    "    a=(-m/(m+n))*np.log2((m/(m+n)))\n",
    "    b=(-n/(m+n))*np.log2((n/(m+n)))\n",
    "    entr=a+b\n",
    "    return entr\n"
   ]
  },
  {
   "cell_type": "code",
   "execution_count": 84,
   "id": "e463eb43",
   "metadata": {},
   "outputs": [],
   "source": [
    "def entrropyat(df,attr):\n",
    "    l=df[attr].unique()\n",
    "    s=0\n",
    "    for i in l:\n",
    "        d1=df.loc[(df[attr]==i)&(df['play']=='Yes')]\n",
    "        d2=df.loc[(df[attr]==i)&(df['play']=='No')]\n",
    "        m=len(d1)\n",
    "        n=len(d2)\n",
    "        \n",
    "        \n",
    "        a=cal(m,n)\n",
    "        d3=df[df[attr]==i]\n",
    "        x=len(d3)\n",
    "        b=x/len(df)\n",
    "        s1=a*b\n",
    "        s=s+s1\n",
    "    gain=entropy(df,'play')-s\n",
    "    return gain\n",
    "\n",
    "    "
   ]
  },
  {
   "cell_type": "code",
   "execution_count": 88,
   "id": "7bf0ec3c",
   "metadata": {},
   "outputs": [
    {
     "name": "stdout",
     "output_type": "stream",
     "text": [
      "[0.24674981977443933, 0.02922256565895487, 0.15183550136234159, 0.04812703040826949]\n"
     ]
    }
   ],
   "source": [
    "features=['outlook','temp','humidity','wind']\n",
    "entropy_values=[]\n",
    "for i in features:\n",
    "    a=entrropyat(df,i)\n",
    "    entropy_values.append(a)\n",
    "print(entropy_values)"
   ]
  },
  {
   "cell_type": "code",
   "execution_count": null,
   "id": "a2f4abe3",
   "metadata": {},
   "outputs": [],
   "source": []
  },
  {
   "cell_type": "code",
   "execution_count": null,
   "id": "b0968f75",
   "metadata": {},
   "outputs": [],
   "source": []
  }
 ],
 "metadata": {
  "kernelspec": {
   "display_name": "Python 3 (ipykernel)",
   "language": "python",
   "name": "python3"
  },
  "language_info": {
   "codemirror_mode": {
    "name": "ipython",
    "version": 3
   },
   "file_extension": ".py",
   "mimetype": "text/x-python",
   "name": "python",
   "nbconvert_exporter": "python",
   "pygments_lexer": "ipython3",
   "version": "3.11.3"
  }
 },
 "nbformat": 4,
 "nbformat_minor": 5
}
